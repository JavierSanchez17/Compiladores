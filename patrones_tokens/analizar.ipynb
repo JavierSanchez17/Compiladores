{
 "cells": [
  {
   "cell_type": "code",
   "execution_count": 1,
   "metadata": {},
   "outputs": [],
   "source": [
    "# === Analisis léxico ===\n",
    "# Definir los patrones\n",
    "import re\n",
    "\n",
    "token_patron = {\n",
    "    \"KEYWORD\": r\"\\b(if|else|while|return|int|float|void|for|print)\\b\",\n",
    "    \"IDENTIFIER\": r\"\\b[a-zA-Z_][a-zA-Z0-9_]*\\b\",\n",
    "    \"NUMBER\": r\"\\b\\d+(\\.\\d+)?\\b\",\n",
    "    \"OPERATOR\": r\"(==|!=|<=|>=|&&|\\|\\||\\+\\+|--|[+\\-*/=<>!&])\",\n",
    "    \"STRING\": r'\"([^\"]*)\"',\n",
    "    \"DELIMITER\": r\"[(),;{}]\",\n",
    "    \"WHITESPACE\": r\"\\s+\",\n",
    "}\n",
    "\n",
    "def identificar(texto):\n",
    "    # Unir todos los patrones en un único patrón utilizando grupos nombrados\n",
    "    patron_general = \"|\".join(f\"(?P<{token}>{patron})\" for token, patron in token_patron.items())\n",
    "    patron_regex = re.compile(patron_general)\n",
    "    tokens_encontrados = []\n",
    "    for match in patron_regex.finditer(texto):\n",
    "        for token, valor in match.groupdict().items():\n",
    "            if valor is not None and token != \"WHITESPACE\":\n",
    "                tokens_encontrados.append((token, valor))\n",
    "    return tokens_encontrados"
   ]
  }
 ],
 "metadata": {
  "kernelspec": {
   "display_name": "venvjupyter",
   "language": "python",
   "name": "python3"
  },
  "language_info": {
   "codemirror_mode": {
    "name": "ipython",
    "version": 3
   },
   "file_extension": ".py",
   "mimetype": "text/x-python",
   "name": "python",
   "nbconvert_exporter": "python",
   "pygments_lexer": "ipython3",
   "version": "3.12.1"
  }
 },
 "nbformat": 4,
 "nbformat_minor": 2
}
